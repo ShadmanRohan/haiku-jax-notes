{
  "nbformat": 4,
  "nbformat_minor": 0,
  "metadata": {
    "colab": {
      "provenance": [],
      "authorship_tag": "ABX9TyN/YA3/PhKtx7H4X/3cEAIm",
      "include_colab_link": true
    },
    "kernelspec": {
      "name": "python3",
      "display_name": "Python 3"
    },
    "language_info": {
      "name": "python"
    },
    "accelerator": "TPU",
    "gpuClass": "standard"
  },
  "cells": [
    {
      "cell_type": "markdown",
      "metadata": {
        "id": "view-in-github",
        "colab_type": "text"
      },
      "source": [
        "<a href=\"https://colab.research.google.com/github/ShadmanRohan/haiku-jax-notes/blob/main/Simple_MLP.ipynb\" target=\"_parent\"><img src=\"https://colab.research.google.com/assets/colab-badge.svg\" alt=\"Open In Colab\"/></a>"
      ]
    },
    {
      "cell_type": "markdown",
      "source": [
        "**Preliminaries**"
      ],
      "metadata": {
        "id": "7j_e2hZlTGOd"
      }
    },
    {
      "cell_type": "code",
      "source": [
        "!pip install dm-haiku\n",
        "import jax\n",
        "import haiku as hk\n",
        "from sklearn import datasets\n",
        "from jax import numpy as jnp\n",
        "from sklearn.model_selection import train_test_split\n",
        "print(\"Haiku Version :{}\".format(hk.__version__))\n",
        "print(\"JAX Version : {}\".format(jax.__version__))"
      ],
      "metadata": {
        "colab": {
          "base_uri": "https://localhost:8080/"
        },
        "id": "_ya-wNWKGE-e",
        "outputId": "61043552-361d-40c5-fc12-72453e7d96a1"
      },
      "execution_count": 3,
      "outputs": [
        {
          "output_type": "stream",
          "name": "stdout",
          "text": [
            "Looking in indexes: https://pypi.org/simple, https://us-python.pkg.dev/colab-wheels/public/simple/\n",
            "Requirement already satisfied: dm-haiku in /usr/local/lib/python3.7/dist-packages (0.0.8)\n",
            "Requirement already satisfied: numpy>=1.18.0 in /usr/local/lib/python3.7/dist-packages (from dm-haiku) (1.21.6)\n",
            "Requirement already satisfied: jmp>=0.0.2 in /usr/local/lib/python3.7/dist-packages (from dm-haiku) (0.0.2)\n",
            "Requirement already satisfied: absl-py>=0.7.1 in /usr/local/lib/python3.7/dist-packages (from dm-haiku) (1.3.0)\n",
            "Requirement already satisfied: typing-extensions in /usr/local/lib/python3.7/dist-packages (from dm-haiku) (4.1.1)\n",
            "Requirement already satisfied: tabulate>=0.8.9 in /usr/local/lib/python3.7/dist-packages (from dm-haiku) (0.8.10)\n",
            "Haiku Version :0.0.8\n",
            "JAX Version : 0.3.23\n"
          ]
        }
      ]
    },
    {
      "cell_type": "markdown",
      "source": [
        "**Dataset**"
      ],
      "metadata": {
        "id": "flzzeXwjTTKk"
      }
    },
    {
      "cell_type": "code",
      "source": [
        "X, Y = datasets.load_boston(return_X_y=True)\n",
        "X_train, X_test, Y_train, Y_test = train_test_split(X, Y, train_size=0.8, random_state=123)\n",
        "X_train, X_test, Y_train, Y_test = jnp.array(X_train, dtype=jnp.float32),\\\n",
        "                                   jnp.array(X_test, dtype=jnp.float32),\\\n",
        "                                   jnp.array(Y_train, dtype=jnp.float32),\\\n",
        "                                   jnp.array(Y_test, dtype=jnp.float32),\\\n",
        "\n",
        "samples, features = X_train.shape\n",
        "X_train.shape, X_test.shape, Y_train.shape, Y_test.shape\n"
      ],
      "metadata": {
        "id": "u8Pjo6vTITe1",
        "colab": {
          "base_uri": "https://localhost:8080/"
        },
        "outputId": "5440777f-83f2-4173-e061-5d3728cf75c6"
      },
      "execution_count": 4,
      "outputs": [
        {
          "output_type": "stream",
          "name": "stderr",
          "text": [
            "/usr/local/lib/python3.7/dist-packages/sklearn/utils/deprecation.py:87: FutureWarning: Function load_boston is deprecated; `load_boston` is deprecated in 1.0 and will be removed in 1.2.\n",
            "\n",
            "    The Boston housing prices dataset has an ethical problem. You can refer to\n",
            "    the documentation of this function for further details.\n",
            "\n",
            "    The scikit-learn maintainers therefore strongly discourage the use of this\n",
            "    dataset unless the purpose of the code is to study and educate about\n",
            "    ethical issues in data science and machine learning.\n",
            "\n",
            "    In this special case, you can fetch the dataset from the original\n",
            "    source::\n",
            "\n",
            "        import pandas as pd\n",
            "        import numpy as np\n",
            "\n",
            "\n",
            "        data_url = \"http://lib.stat.cmu.edu/datasets/boston\"\n",
            "        raw_df = pd.read_csv(data_url, sep=\"\\s+\", skiprows=22, header=None)\n",
            "        data = np.hstack([raw_df.values[::2, :], raw_df.values[1::2, :2]])\n",
            "        target = raw_df.values[1::2, 2]\n",
            "\n",
            "    Alternative datasets include the California housing dataset (i.e.\n",
            "    :func:`~sklearn.datasets.fetch_california_housing`) and the Ames housing\n",
            "    dataset. You can load the datasets as follows::\n",
            "\n",
            "        from sklearn.datasets import fetch_california_housing\n",
            "        housing = fetch_california_housing()\n",
            "\n",
            "    for the California housing dataset and::\n",
            "\n",
            "        from sklearn.datasets import fetch_openml\n",
            "        housing = fetch_openml(name=\"house_prices\", as_frame=True)\n",
            "\n",
            "    for the Ames housing dataset.\n",
            "    \n",
            "  warnings.warn(msg, category=FutureWarning)\n",
            "WARNING:absl:No GPU/TPU found, falling back to CPU. (Set TF_CPP_MIN_LOG_LEVEL=0 and rerun for more info.)\n"
          ]
        },
        {
          "output_type": "execute_result",
          "data": {
            "text/plain": [
              "((404, 13), (102, 13), (404,), (102,))"
            ]
          },
          "metadata": {},
          "execution_count": 4
        }
      ]
    },
    {
      "cell_type": "code",
      "source": [
        "samples, features"
      ],
      "metadata": {
        "colab": {
          "base_uri": "https://localhost:8080/"
        },
        "id": "k6qm3i8_IfZW",
        "outputId": "3a70c4e8-cb62-46bc-f7e9-7a704b1d34ac"
      },
      "execution_count": 5,
      "outputs": [
        {
          "output_type": "execute_result",
          "data": {
            "text/plain": [
              "(404, 13)"
            ]
          },
          "metadata": {},
          "execution_count": 5
        }
      ]
    },
    {
      "cell_type": "code",
      "source": [
        "mean = X_train.mean(axis=0)\n",
        "std = X_train.std(axis=0)\n",
        "\n",
        "X_train = (X_train - mean) / std\n",
        "X_test = (X_test - mean) / std"
      ],
      "metadata": {
        "id": "UTlNK3XyIsA1"
      },
      "execution_count": 6,
      "outputs": []
    },
    {
      "cell_type": "code",
      "source": [
        "def FeedForward(x):\n",
        "    mlp = hk.nets.MLP(output_sizes=[5,10,15,1])\n",
        "    return mlp(x)\n",
        "\n",
        "model = hk.transform(FeedForward)\n"
      ],
      "metadata": {
        "id": "sv2sI0ZMJk78"
      },
      "execution_count": 7,
      "outputs": []
    },
    {
      "cell_type": "code",
      "source": [
        "rng = jax.random.PRNGKey(42)\n",
        "params = model.init(rng, X_train[:5])\n",
        "print(\"Weights Type : {}\\n\".format(type(params)))\n",
        "\n",
        "for layer_name, weights in params.items():\n",
        "    print(layer_name)\n",
        "    print(\"Weights : {}, Biases : {}\\n\".format(params[layer_name][\"w\"].shape,params[layer_name][\"b\"].shape))"
      ],
      "metadata": {
        "colab": {
          "base_uri": "https://localhost:8080/"
        },
        "id": "1u0wV2AnTeVC",
        "outputId": "d78f3e9c-78d4-40c8-fdc2-1c47928c2abf"
      },
      "execution_count": 8,
      "outputs": [
        {
          "output_type": "stream",
          "name": "stdout",
          "text": [
            "Weights Type : <class 'dict'>\n",
            "\n",
            "mlp/~/linear_0\n",
            "Weights : (13, 5), Biases : (5,)\n",
            "\n",
            "mlp/~/linear_1\n",
            "Weights : (5, 10), Biases : (10,)\n",
            "\n",
            "mlp/~/linear_2\n",
            "Weights : (10, 15), Biases : (15,)\n",
            "\n",
            "mlp/~/linear_3\n",
            "Weights : (15, 1), Biases : (1,)\n",
            "\n"
          ]
        }
      ]
    },
    {
      "cell_type": "code",
      "source": [
        "preds = model.apply(params, rng, X_train)\n",
        "preds[:5]"
      ],
      "metadata": {
        "colab": {
          "base_uri": "https://localhost:8080/"
        },
        "id": "ssrQeXJ3Tkmn",
        "outputId": "8fc3080f-572d-484c-9f72-4cd743b429f5"
      },
      "execution_count": 9,
      "outputs": [
        {
          "output_type": "execute_result",
          "data": {
            "text/plain": [
              "DeviceArray([[-0.7874111 ],\n",
              "             [-0.2776872 ],\n",
              "             [-0.01174069],\n",
              "             [-0.01407542],\n",
              "             [-0.38728935]], dtype=float32)"
            ]
          },
          "metadata": {},
          "execution_count": 9
        }
      ]
    },
    {
      "cell_type": "code",
      "source": [
        "def MeanSquaredErrorLoss(weights, input_data, actual):\n",
        "    preds = model.apply(weights, rng, input_data)\n",
        "    preds = preds.squeeze()\n",
        "    return jnp.power(actual - preds, 2).mean()"
      ],
      "metadata": {
        "id": "8qj77ZzsTm4e"
      },
      "execution_count": 10,
      "outputs": []
    },
    {
      "cell_type": "code",
      "source": [
        "def UpdateWeights(weights,gradients):\n",
        "    return weights - learning_rate * gradients"
      ],
      "metadata": {
        "id": "Y_6H9YdkTpXr"
      },
      "execution_count": 11,
      "outputs": []
    },
    {
      "cell_type": "code",
      "source": [
        "from jax import value_and_grad\n",
        "\n",
        "rng = jax.random.PRNGKey(42) ## Reproducibility ## Initializes model with same weights each time.\n",
        "\n",
        "params = model.init(rng, X_train[:5])\n",
        "epochs = 1000\n",
        "learning_rate = jnp.array(0.001)\n",
        "\n",
        "for i in range(1, epochs+1):\n",
        "    loss, param_grads = value_and_grad(MeanSquaredErrorLoss)(params, X_train, Y_train)\n",
        "    params = jax.tree_map(UpdateWeights, params, param_grads)\n",
        "\n",
        "    if i%100 == 0:\n",
        "        print(\"MSE : {:.2f}\".format(loss))\n"
      ],
      "metadata": {
        "colab": {
          "base_uri": "https://localhost:8080/"
        },
        "id": "0Xhgp175Ts7S",
        "outputId": "7e9060f8-f303-4b56-d085-ffe3b50c9481"
      },
      "execution_count": 12,
      "outputs": [
        {
          "output_type": "stream",
          "name": "stdout",
          "text": [
            "MSE : 17.04\n",
            "MSE : 12.32\n",
            "MSE : 10.59\n",
            "MSE : 9.66\n",
            "MSE : 9.09\n",
            "MSE : 8.76\n",
            "MSE : 8.55\n",
            "MSE : 8.38\n",
            "MSE : 8.23\n",
            "MSE : 8.13\n"
          ]
        }
      ]
    },
    {
      "cell_type": "code",
      "source": [
        "train_preds = model.apply(params, rng, X_train)\n",
        "\n",
        "train_preds[:5]\n"
      ],
      "metadata": {
        "colab": {
          "base_uri": "https://localhost:8080/"
        },
        "id": "7Bbu3XNXTwDK",
        "outputId": "d97f52d2-d188-4b16-ee34-48f8ec36d459"
      },
      "execution_count": 13,
      "outputs": [
        {
          "output_type": "execute_result",
          "data": {
            "text/plain": [
              "DeviceArray([[48.474415],\n",
              "             [11.665481],\n",
              "             [21.027842],\n",
              "             [26.18423 ],\n",
              "             [15.279279]], dtype=float32)"
            ]
          },
          "metadata": {},
          "execution_count": 13
        }
      ]
    },
    {
      "cell_type": "code",
      "source": [
        "test_preds = model.apply(params, rng, X_test)\n",
        "test_preds[:5]"
      ],
      "metadata": {
        "colab": {
          "base_uri": "https://localhost:8080/"
        },
        "id": "uqL89T64TxvP",
        "outputId": "87d332d5-944c-40c7-ada6-d64dc96dcd25"
      },
      "execution_count": 14,
      "outputs": [
        {
          "output_type": "execute_result",
          "data": {
            "text/plain": [
              "DeviceArray([[20.905386],\n",
              "             [25.025269],\n",
              "             [44.169964],\n",
              "             [21.290577],\n",
              "             [29.036097]], dtype=float32)"
            ]
          },
          "metadata": {},
          "execution_count": 14
        }
      ]
    },
    {
      "cell_type": "code",
      "source": [
        "print(\"Test  MSE Score : {:.2f}\".format(MeanSquaredErrorLoss(params, X_test, Y_test)))\n",
        "print(\"Train MSE Score : {:.2f}\".format(MeanSquaredErrorLoss(params, X_train, Y_train)))"
      ],
      "metadata": {
        "colab": {
          "base_uri": "https://localhost:8080/"
        },
        "id": "zYbFkeb2T1oX",
        "outputId": "470fdfc8-a9ae-4fbe-beb0-7d6597f9eb84"
      },
      "execution_count": 15,
      "outputs": [
        {
          "output_type": "stream",
          "name": "stdout",
          "text": [
            "Test  MSE Score : 18.38\n",
            "Train MSE Score : 8.13\n"
          ]
        }
      ]
    }
  ]
}